{
  "nbformat": 4,
  "nbformat_minor": 0,
  "metadata": {
    "colab": {
      "provenance": [],
      "gpuType": "T4"
    },
    "kernelspec": {
      "name": "python3",
      "display_name": "Python 3"
    },
    "language_info": {
      "name": "python"
    },
    "accelerator": "GPU"
  },
  "cells": [
    {
      "cell_type": "code",
      "execution_count": null,
      "metadata": {
        "colab": {
          "base_uri": "https://localhost:8080/"
        },
        "id": "63HFrF8Oxegi",
        "outputId": "0a0c5315-5e36-4619-ebfd-e867daf8d9ff"
      },
      "outputs": [
        {
          "output_type": "stream",
          "name": "stdout",
          "text": [
            "Collecting PyThaiNLP\n",
            "  Downloading pythainlp-4.0.2-py3-none-any.whl (13.4 MB)\n",
            "\u001b[2K     \u001b[90m━━━━━━━━━━━━━━━━━━━━━━━━━━━━━━━━━━━━━━━━\u001b[0m \u001b[32m13.4/13.4 MB\u001b[0m \u001b[31m45.5 MB/s\u001b[0m eta \u001b[36m0:00:00\u001b[0m\n",
            "\u001b[?25hRequirement already satisfied: requests>=2.22.0 in /usr/local/lib/python3.10/dist-packages (from PyThaiNLP) (2.31.0)\n",
            "Requirement already satisfied: charset-normalizer<4,>=2 in /usr/local/lib/python3.10/dist-packages (from requests>=2.22.0->PyThaiNLP) (3.3.0)\n",
            "Requirement already satisfied: idna<4,>=2.5 in /usr/local/lib/python3.10/dist-packages (from requests>=2.22.0->PyThaiNLP) (3.4)\n",
            "Requirement already satisfied: urllib3<3,>=1.21.1 in /usr/local/lib/python3.10/dist-packages (from requests>=2.22.0->PyThaiNLP) (2.0.6)\n",
            "Requirement already satisfied: certifi>=2017.4.17 in /usr/local/lib/python3.10/dist-packages (from requests>=2.22.0->PyThaiNLP) (2023.7.22)\n",
            "Installing collected packages: PyThaiNLP\n",
            "Successfully installed PyThaiNLP-4.0.2\n"
          ]
        }
      ],
      "source": [
        "!pip install PyThaiNLP"
      ]
    },
    {
      "cell_type": "code",
      "source": [
        "from gensim.models import Word2Vec\n",
        "from pythainlp.tokenize import word_tokenize\n",
        "#from nltk.tokenize import word_tokenize\n",
        "\n",
        "# ตัวอย่างข้อมูลข้อความ (ที่มา : จากเพลงของ ขอนไม้กับเรือ - บ่าววี)\n",
        "corpus = [\n",
        "    \"เปรียบกับพี่เป็นแค่ขอนไม้\",\n",
        "    \"เกาะลอยคอให้เพียงข้ามวัน\",\n",
        "    \"แต่ฝั่งฝันขอเพียงให้เรือพาเจ้าไป\",\n",
        "    \"โดดเดี่ยวเดียวดายในท้องเล\",\n",
        "    \"ลมพัดลมเพไปตามกระแส\",\n",
        "    \"ขอนไม้อ่อนแอจะไปไหนไกล\",\n",
        "    \"ไม่อยากให้จมไปด้วยกัน\",\n",
        "    \"ไม่ยอมให้ฝันเจ้าต้องสลาย\",\n",
        "    \"เมื่อพี่จมหายให้เจ้ายังมีหวัง\",\n",
        "    \"หากมีเรือสักลำแล่นมา\",\n",
        "    \"ก็ขอให้เธออย่าช้าขึ้นเรือนั้นไป\",\n",
        "    \"เปรียบกับพี่เป็นแค่ขอนไม้\",\n",
        "    \"ต่อให้รักเจ้ามากเพียงไหน\",\n",
        "    \"ผุพังไปพึ่งพาก็ได้ไม่นาน\",\n",
        "    \"เปรียบกับพี่เป็นแค่ขอนไม้\",\n",
        "    \"เกาะลอยคอให้เพียงข้ามวัน\",\n",
        "    \"แต่ฝั่งฝันขอเพียงให้เรือพาเจ้าไป\",\n",
        "    \"เปรียบกับพี่เป็นแค่ขอนไม้\",\n",
        "    \"ต่อให้รักเจ้ามากเพียงไหน\",\n",
        "    \"ผุพังไปพึ่งพาก็ได้ไม่นาน\",\n",
        "    \"เปรียบกับพี่เป็นแค่ขอนไม้\",\n",
        "    \"เกาะลอยคอให้เพียงข้ามวัน\",\n",
        "    \"แต่ฝั่งฝันขอเพียงให้เรือพาเจ้าไป\"\n",
        "]"
      ],
      "metadata": {
        "id": "264bsswn4k7k"
      },
      "execution_count": null,
      "outputs": []
    },
    {
      "cell_type": "code",
      "source": [
        "tokenized_corpus = [word_tokenize(sentence, engine='newmm') for sentence in corpus]\n",
        "tokenized_corpus"
      ],
      "metadata": {
        "colab": {
          "base_uri": "https://localhost:8080/"
        },
        "id": "vknb46ls6jsT",
        "outputId": "02fd4c59-fcd9-4610-a58e-e2cba1b312ef"
      },
      "execution_count": null,
      "outputs": [
        {
          "output_type": "execute_result",
          "data": {
            "text/plain": [
              "[['เปรียบกับ', 'พี่', 'เป็น', 'แค่', 'ขอนไม้'],\n",
              " ['เกาะ', 'ลอยคอ', 'ให้', 'เพียง', 'ข้าม', 'วัน'],\n",
              " ['แต่', 'ฝั่ง', 'ฝัน', 'ขอ', 'เพียง', 'ให้', 'เรือ', 'พา', 'เจ้า', 'ไป'],\n",
              " ['โดดเดี่ยวเดียวดาย', 'ใน', 'ท้อง', 'เล'],\n",
              " ['ลม', 'พัดลม', 'เพ', 'ไป', 'ตาม', 'กระแส'],\n",
              " ['ขอนไม้', 'อ่อนแอ', 'จะ', 'ไป', 'ไหน', 'ไกล'],\n",
              " ['ไม่', 'อยาก', 'ให้', 'จม', 'ไป', 'ด้วยกัน'],\n",
              " ['ไม่', 'ยอมให้', 'ฝัน', 'เจ้า', 'ต้อง', 'สลาย'],\n",
              " ['เมื่อ', 'พี่', 'จม', 'หาย', 'ให้', 'เจ้า', 'ยัง', 'มีหวัง'],\n",
              " ['หาก', 'มี', 'เรือ', 'สัก', 'ลำ', 'แล่น', 'มา'],\n",
              " ['ก็', 'ขอให้', 'เธอ', 'อย่า', 'ช้า', 'ขึ้น', 'เรือ', 'นั้น', 'ไป'],\n",
              " ['เปรียบกับ', 'พี่', 'เป็น', 'แค่', 'ขอนไม้'],\n",
              " ['ต่อให้', 'รัก', 'เจ้า', 'มาก', 'เพียง', 'ไหน'],\n",
              " ['ผุพัง', 'ไป', 'พึ่งพา', 'ก็ได้', 'ไม่', 'นาน'],\n",
              " ['เปรียบกับ', 'พี่', 'เป็น', 'แค่', 'ขอนไม้'],\n",
              " ['เกาะ', 'ลอยคอ', 'ให้', 'เพียง', 'ข้าม', 'วัน'],\n",
              " ['แต่', 'ฝั่ง', 'ฝัน', 'ขอ', 'เพียง', 'ให้', 'เรือ', 'พา', 'เจ้า', 'ไป'],\n",
              " ['เปรียบกับ', 'พี่', 'เป็น', 'แค่', 'ขอนไม้'],\n",
              " ['ต่อให้', 'รัก', 'เจ้า', 'มาก', 'เพียง', 'ไหน'],\n",
              " ['ผุพัง', 'ไป', 'พึ่งพา', 'ก็ได้', 'ไม่', 'นาน'],\n",
              " ['เปรียบกับ', 'พี่', 'เป็น', 'แค่', 'ขอนไม้'],\n",
              " ['เกาะ', 'ลอยคอ', 'ให้', 'เพียง', 'ข้าม', 'วัน'],\n",
              " ['แต่', 'ฝั่ง', 'ฝัน', 'ขอ', 'เพียง', 'ให้', 'เรือ', 'พา', 'เจ้า', 'ไป']]"
            ]
          },
          "metadata": {},
          "execution_count": 5
        }
      ]
    },
    {
      "cell_type": "code",
      "source": [
        "model = Word2Vec(sentences=tokenized_corpus, vector_size=100, window=5, min_count=1, sg=0)"
      ],
      "metadata": {
        "id": "25gkSANu6lzC"
      },
      "execution_count": null,
      "outputs": []
    },
    {
      "cell_type": "code",
      "source": [
        "similar_words = model.wv.most_similar('รัก')\n",
        "print(similar_words)"
      ],
      "metadata": {
        "colab": {
          "base_uri": "https://localhost:8080/"
        },
        "id": "BQxNzP4K63BB",
        "outputId": "4fec730f-48e3-4d2e-84b2-e4de950bf532"
      },
      "execution_count": null,
      "outputs": [
        {
          "output_type": "stream",
          "name": "stdout",
          "text": [
            "[('แค่', 0.28549665212631226), ('ยอมให้', 0.27057260274887085), ('ขึ้น', 0.2597556412220001), ('พัดลม', 0.2540716230869293), ('ให้', 0.1885998249053955), ('ขอให้', 0.14232094585895538), ('ขอ', 0.10807858407497406), ('ไป', 0.099725641310215), ('แต่', 0.09742308408021927), ('ขอนไม้', 0.09649886190891266)]\n"
          ]
        }
      ]
    },
    {
      "cell_type": "code",
      "source": [
        "word_vector = model.wv['รัก']\n",
        "print(word_vector)"
      ],
      "metadata": {
        "colab": {
          "base_uri": "https://localhost:8080/"
        },
        "id": "onocH83n65AK",
        "outputId": "0214af56-aa83-49a3-e4fb-f4c014d4b714"
      },
      "execution_count": null,
      "outputs": [
        {
          "output_type": "stream",
          "name": "stdout",
          "text": [
            "[ 0.0021118   0.00573506 -0.00211623  0.00317016  0.00844303  0.00038266\n",
            "  0.00629627 -0.00674181  0.00657537  0.00468395  0.00508575 -0.00992602\n",
            " -0.00042467  0.00320371 -0.00582713 -0.00669651  0.00637104 -0.00683473\n",
            " -0.00518287  0.00811997 -0.00702018  0.00855237  0.00066151  0.00439912\n",
            " -0.0030067  -0.0054319  -0.00895124 -0.00061461 -0.00510494 -0.00308155\n",
            "  0.00810833 -0.00764779 -0.0063036  -0.00526673 -0.00660759 -0.00883799\n",
            " -0.00111245  0.00944368  0.00803683 -0.00527994 -0.00814228 -0.002254\n",
            " -0.00927148 -0.00507237 -0.00594922  0.00302544 -0.00757747  0.00125108\n",
            "  0.00228573  0.00531947 -0.0020246  -0.00977242  0.00521809 -0.00590448\n",
            "  0.00489058  0.00196916  0.00882145  0.00153197 -0.00182658  0.00649455\n",
            " -0.00707459 -0.0083934   0.00379139 -0.00257787 -0.00418714 -0.00192238\n",
            " -0.00988875  0.00025576 -0.00105964 -0.00297115  0.00250537  0.00470636\n",
            "  0.00634665 -0.00791627 -0.00498398 -0.00879414 -0.00894347 -0.00374105\n",
            " -0.00127755 -0.00821345 -0.00537864 -0.00215148  0.00634267  0.0015742\n",
            "  0.00831053 -0.00831926 -0.00457661 -0.00080279  0.0088039   0.00111198\n",
            "  0.00154311  0.00129638  0.00292476 -0.00939334  0.0032591   0.00546924\n",
            "  0.0052833   0.00443925 -0.00808377 -0.00406543]\n"
          ]
        }
      ]
    },
    {
      "cell_type": "code",
      "source": [
        "word_vector.shape"
      ],
      "metadata": {
        "colab": {
          "base_uri": "https://localhost:8080/"
        },
        "id": "uQQw-pJ967zC",
        "outputId": "bfcc1320-63a8-4bb2-c789-26b291272451"
      },
      "execution_count": null,
      "outputs": [
        {
          "output_type": "execute_result",
          "data": {
            "text/plain": [
              "(100,)"
            ]
          },
          "metadata": {},
          "execution_count": 9
        }
      ]
    },
    {
      "cell_type": "markdown",
      "source": [
        "##Word2Vec"
      ],
      "metadata": {
        "id": "PXNvTf7D8Vlx"
      }
    },
    {
      "cell_type": "code",
      "source": [
        "!git clone https://github.com/tmikolov/word2vec\n",
        "!cd word2vec && make"
      ],
      "metadata": {
        "colab": {
          "base_uri": "https://localhost:8080/"
        },
        "id": "ZmtDJTMi8XVX",
        "outputId": "9cca2c16-3c3d-42af-d579-1eda0f85d2d4"
      },
      "execution_count": null,
      "outputs": [
        {
          "output_type": "stream",
          "name": "stdout",
          "text": [
            "Cloning into 'word2vec'...\n",
            "remote: Enumerating objects: 148, done.\u001b[K\n",
            "remote: Total 148 (delta 0), reused 0 (delta 0), pack-reused 148\u001b[K\n",
            "Receiving objects: 100% (148/148), 119.02 KiB | 937.00 KiB/s, done.\n",
            "Resolving deltas: 100% (86/86), done.\n",
            "gcc word2vec.c -o word2vec -lm -pthread -O3 -march=native -Wall -funroll-loops -Wno-unused-result\n",
            "gcc word2phrase.c -o word2phrase -lm -pthread -O3 -march=native -Wall -funroll-loops -Wno-unused-result\n",
            "gcc distance.c -o distance -lm -pthread -O3 -march=native -Wall -funroll-loops -Wno-unused-result\n",
            "gcc word-analogy.c -o word-analogy -lm -pthread -O3 -march=native -Wall -funroll-loops -Wno-unused-result\n",
            "gcc compute-accuracy.c -o compute-accuracy -lm -pthread -O3 -march=native -Wall -funroll-loops -Wno-unused-result\n",
            "chmod +x *.sh\n"
          ]
        }
      ]
    },
    {
      "cell_type": "code",
      "source": [
        "!gdown 1D91n1Pc7XXfQ03zxoF_Bzlb4xP7guU79"
      ],
      "metadata": {
        "colab": {
          "base_uri": "https://localhost:8080/"
        },
        "id": "buJ2pxBT-JM1",
        "outputId": "20c24b66-8bf2-4f8c-d2e8-2fa2d7a46f39"
      },
      "execution_count": null,
      "outputs": [
        {
          "output_type": "stream",
          "name": "stdout",
          "text": [
            "Downloading...\n",
            "From: https://drive.google.com/uc?id=1D91n1Pc7XXfQ03zxoF_Bzlb4xP7guU79\n",
            "To: /content/TNC3_unicode_tokenized_clean.zip\n",
            "100% 86.3M/86.3M [00:02<00:00, 35.9MB/s]\n"
          ]
        }
      ]
    },
    {
      "cell_type": "code",
      "source": [
        "from zipfile import ZipFile\n",
        "with ZipFile('TNC3_unicode_tokenized_clean.zip') as zipf:\n",
        "  zipf.extractall()"
      ],
      "metadata": {
        "id": "QmfWMxGn-Ldt"
      },
      "execution_count": null,
      "outputs": []
    },
    {
      "cell_type": "code",
      "source": [
        "!head -n 20 TNC3_unicode_tokenized_clean.txt"
      ],
      "metadata": {
        "colab": {
          "base_uri": "https://localhost:8080/"
        },
        "id": "gVJfC1_8-Nmf",
        "outputId": "f9b311d1-b879-4faf-ed9f-468884b5d988"
      },
      "execution_count": null,
      "outputs": [
        {
          "output_type": "stream",
          "name": "stdout",
          "text": [
            "ประกาศ คณะกรรมการ ช.พ.ส.\n",
            "เรื่อง หลัก เกณฑ์ และ วิธี การ ขอ ดำรง สมาชิกภาพ ช. พ.ส.\n",
            "และ การ ระบุ ผู้ มี สิทธิ รับ เงิน สงเคราะห์ ครอบครัว กรณี หย่า\n",
            "พ.ศ. 2548\n",
            "… … … ………………… … … … … .\n",
            "อาศัย อำนาจ ตาม ความ ใน ข้อ 20 แห่ง ระเบียบ สำนักงานคณะกรรมการส่งเสริมสวัสดิการ\n",
            "และ สวัสดิภาพครู และ บุคลากร ทาง การ ศึกษา ว่า ด้วย การ ฌาปนกิจสงเคราะห์ ช่วย เพื่อน ครู และ บุคลากร ทาง การ ศึกษา\n",
            "ใน กรณี คู่ สมรส ถึงแก่กรรม พ.ศ. 2548 คณะ กรรมการ ช. พ.ส. จึง วาง หลัก เกณฑ์ การ ขอ ดำรง สมาชิกภาพ ช. พ.ส.\n",
            "และ การ ระบุ ผู้ มี สิทธิ รับ เงิน สงเคราะห์ ครอบครัว ช. พ.ส. กรณี หย่า ไว้ ดัง ต่อ ไป นี้\n",
            "ข้อ 1 ประกาศ นี้ เรียก ว่า “ ประกาศ คณะกรรมการ ช. พ.ส. เรื่อง หลัก เกณฑ์ และ วิธี การ ขอดำรง\n",
            "สมาชิกภาพ ช. พ.ส. และ การ ระบุ ผู้ มี สิทธิ รับ เงิน สงเคราะห์ ครอบครัว ช. พ.ส. กรณี หย่า พ.ศ. 2548 ”\n",
            "ข้อ 2 ประกาศ นี้ ให้ บังคับ ใช้ ตั้งแต่ วัน ที่ 1 มีนาคม พ.ศ. 2549 เป็นต้น ไป\n",
            "ข้อ 3 ให้ ยกเลิก ประกาศ คณะกรรมการ ช. พ.ส. เรื่อง หลัก เกณฑ์ และ วิธี การ ระบุ ผู้ มี สิทธิ รับ เงิน\n",
            "สงเคราะห์ ครอบครัว พ.ศ. 2546 และ หลัก เกณฑ์ และ วิธี การ ขอ กลับ เข้า เป็น สมาชิก ช. พ.ส. กรณี หย่า พ.ศ. 2546\n",
            "บรรดา คำ สั่ง หลักเกณฑ์ และ วิธี การ ปฏิบัติ อื่น ใด ที่ กำหนด ไว้ แล้ว ใน ประกาศ นี้ หรือ ซึ่ง ขัด\n",
            "หรือ แย้ง กับ ประกาศ นี้ ให้ ใช้ ประกาศ นี้ แทน\n",
            "ข้อ 4 ใน ประกาศ นี้\n",
            "“ สำนักงาน ช.พ.ส ” หมาย ความ ว่า สำนักงานการ ฌาปนกิจสงเคราะห์ ช่วย เพื่อน ครู และ บุคลากร ทาง การ ศึกษา ใน กรณี คู่ สมรส ถึงแก่กรรม\n",
            "“ สำนักงาน สกสค. จังหวัด ” หมาย ความ ว่า สำนักงานส่งเสริมสวัสดิการ และ สวัสดิภาพครู\n",
            "และ บุคลากร ทาง การ ศึกษา จังหวัด\n"
          ]
        }
      ]
    },
    {
      "cell_type": "code",
      "source": [
        "!./word2vec/word2vec"
      ],
      "metadata": {
        "colab": {
          "base_uri": "https://localhost:8080/"
        },
        "id": "pTTfgV4--PG5",
        "outputId": "4870f461-73a7-4ba0-9d5c-d8ec009f883a"
      },
      "execution_count": null,
      "outputs": [
        {
          "output_type": "stream",
          "name": "stdout",
          "text": [
            "WORD VECTOR estimation toolkit v 0.1c\n",
            "\n",
            "Options:\n",
            "Parameters for training:\n",
            "\t-train <file>\n",
            "\t\tUse text data from <file> to train the model\n",
            "\t-output <file>\n",
            "\t\tUse <file> to save the resulting word vectors / word clusters\n",
            "\t-size <int>\n",
            "\t\tSet size of word vectors; default is 100\n",
            "\t-window <int>\n",
            "\t\tSet max skip length between words; default is 5\n",
            "\t-sample <float>\n",
            "\t\tSet threshold for occurrence of words. Those that appear with higher frequency in the training data\n",
            "\t\twill be randomly down-sampled; default is 1e-3, useful range is (0, 1e-5)\n",
            "\t-hs <int>\n",
            "\t\tUse Hierarchical Softmax; default is 0 (not used)\n",
            "\t-negative <int>\n",
            "\t\tNumber of negative examples; default is 5, common values are 3 - 10 (0 = not used)\n",
            "\t-threads <int>\n",
            "\t\tUse <int> threads (default 12)\n",
            "\t-iter <int>\n",
            "\t\tRun more training iterations (default 5)\n",
            "\t-min-count <int>\n",
            "\t\tThis will discard words that appear less than <int> times; default is 5\n",
            "\t-alpha <float>\n",
            "\t\tSet the starting learning rate; default is 0.025 for skip-gram and 0.05 for CBOW\n",
            "\t-classes <int>\n",
            "\t\tOutput word classes rather than word vectors; default number of classes is 0 (vectors are written)\n",
            "\t-debug <int>\n",
            "\t\tSet the debug mode (default = 2 = more info during training)\n",
            "\t-binary <int>\n",
            "\t\tSave the resulting vectors in binary moded; default is 0 (off)\n",
            "\t-save-vocab <file>\n",
            "\t\tThe vocabulary will be saved to <file>\n",
            "\t-read-vocab <file>\n",
            "\t\tThe vocabulary will be read from <file>, not constructed from the training data\n",
            "\t-cbow <int>\n",
            "\t\tUse the continuous bag of words model; default is 1 (use 0 for skip-gram model)\n",
            "\n",
            "Examples:\n",
            "./word2vec -train data.txt -output vec.txt -size 200 -window 5 -sample 1e-4 -negative 5 -hs 0 -binary 0 -cbow 1 -iter 3\n",
            "\n"
          ]
        }
      ]
    },
    {
      "cell_type": "code",
      "source": [
        "!./word2vec/word2vec -train TNC3_unicode_tokenized_clean.txt -output TNC_embeddings-50.bin -size 50 -binary 1"
      ],
      "metadata": {
        "colab": {
          "base_uri": "https://localhost:8080/"
        },
        "id": "SSfp6_hc-Qa4",
        "outputId": "9e3b3719-4a8e-42be-a917-3c5e20669aec"
      },
      "execution_count": null,
      "outputs": [
        {
          "output_type": "stream",
          "name": "stdout",
          "text": [
            "Starting training using file TNC3_unicode_tokenized_clean.txt\n",
            "Vocab size: 61631\n",
            "Words in train file: 33134983\n",
            "Alpha: 0.000009  Progress: 100.00%  Words/thread/sec: 439.39k  "
          ]
        }
      ]
    },
    {
      "cell_type": "code",
      "source": [
        "!pip install gensim"
      ],
      "metadata": {
        "colab": {
          "base_uri": "https://localhost:8080/"
        },
        "id": "dKA6wD24_hNW",
        "outputId": "81fafe66-22ab-47c3-a7f3-c11a824dec02"
      },
      "execution_count": null,
      "outputs": [
        {
          "output_type": "stream",
          "name": "stdout",
          "text": [
            "Requirement already satisfied: gensim in /usr/local/lib/python3.10/dist-packages (4.3.2)\n",
            "Requirement already satisfied: numpy>=1.18.5 in /usr/local/lib/python3.10/dist-packages (from gensim) (1.23.5)\n",
            "Requirement already satisfied: scipy>=1.7.0 in /usr/local/lib/python3.10/dist-packages (from gensim) (1.11.3)\n",
            "Requirement already satisfied: smart-open>=1.8.1 in /usr/local/lib/python3.10/dist-packages (from gensim) (6.4.0)\n"
          ]
        }
      ]
    },
    {
      "cell_type": "code",
      "source": [
        "from gensim.models import KeyedVectors\n",
        "tnc_embeddings = KeyedVectors.load_word2vec_format(\"TNC_embeddings-50.bin\",binary=True, unicode_errors='ignore')"
      ],
      "metadata": {
        "colab": {
          "base_uri": "https://localhost:8080/"
        },
        "id": "dSgn41gn_opN",
        "outputId": "67d8f646-a306-4033-da10-60e17ff2a7a5"
      },
      "execution_count": null,
      "outputs": [
        {
          "output_type": "stream",
          "name": "stderr",
          "text": [
            "WARNING:gensim.models.keyedvectors:duplicate word 'พระบาทสมเด็จพระพุทธยอดฟ้าจุฬาโลก' in word2vec file, ignoring all but first\n"
          ]
        }
      ]
    },
    {
      "cell_type": "code",
      "source": [
        "len(tnc_embeddings.index_to_key)"
      ],
      "metadata": {
        "colab": {
          "base_uri": "https://localhost:8080/"
        },
        "id": "tgM060SN_0ys",
        "outputId": "67a94aed-5a50-4161-bc02-8ec2f528834e"
      },
      "execution_count": null,
      "outputs": [
        {
          "output_type": "execute_result",
          "data": {
            "text/plain": [
              "61631"
            ]
          },
          "metadata": {},
          "execution_count": 20
        }
      ]
    },
    {
      "cell_type": "code",
      "source": [
        "tnc_embeddings.similar_by_word('เหลือง')"
      ],
      "metadata": {
        "colab": {
          "base_uri": "https://localhost:8080/"
        },
        "id": "UVBUIYdm_2Jt",
        "outputId": "90483fb2-b221-4cd3-d48a-3a056a9f5cee"
      },
      "execution_count": null,
      "outputs": [
        {
          "output_type": "stream",
          "name": "stderr",
          "text": [
            "/usr/local/lib/python3.10/dist-packages/gensim/models/keyedvectors.py:849: RuntimeWarning: invalid value encountered in divide\n",
            "  dists = dot(self.vectors[clip_start:clip_end], mean) / self.norms[clip_start:clip_end]\n"
          ]
        },
        {
          "output_type": "execute_result",
          "data": {
            "text/plain": [
              "[('เขียว', 0.892220675945282),\n",
              " ('ขาว', 0.8870341777801514),\n",
              " ('แดง', 0.8788438439369202),\n",
              " ('น้ำตาล', 0.8454437851905823),\n",
              " ('เทา', 0.8280024528503418),\n",
              " ('ดำ', 0.8275819420814514),\n",
              " ('อร่าม', 0.8163225650787354),\n",
              " ('ชมพู', 0.8161112666130066),\n",
              " ('ม่วง', 0.8122475147247314),\n",
              " ('โพลน', 0.8007429242134094)]"
            ]
          },
          "metadata": {},
          "execution_count": 21
        }
      ]
    },
    {
      "cell_type": "code",
      "source": [
        "tnc_embeddings.most_similar(positive=['โตเกียว','ญี่ปุ่น'],negative=['อังกฤษ'])"
      ],
      "metadata": {
        "colab": {
          "base_uri": "https://localhost:8080/"
        },
        "id": "Rehct1oq_3RT",
        "outputId": "00eabeab-aa20-4491-bb80-75437559b854"
      },
      "execution_count": null,
      "outputs": [
        {
          "output_type": "execute_result",
          "data": {
            "text/plain": [
              "[('นิวยอร์ก', 0.7027260065078735),\n",
              " ('โอซาก้า', 0.6942645907402039),\n",
              " ('ปารีส', 0.6911044716835022),\n",
              " ('ทาวน์', 0.6845703721046448),\n",
              " ('แอฟริกาใต้', 0.6754531860351562),\n",
              " ('สวิตเซอร์แลนด์', 0.6630964875221252),\n",
              " ('ฮิลตัน', 0.6621710658073425),\n",
              " ('โตเกียวมิด', 0.6609082818031311),\n",
              " ('เซี่ยงไฮ้', 0.6600897908210754),\n",
              " ('เทียนสิน', 0.6438468098640442)]"
            ]
          },
          "metadata": {},
          "execution_count": 22
        }
      ]
    },
    {
      "cell_type": "markdown",
      "source": [
        "##fasttext"
      ],
      "metadata": {
        "id": "I3plALObDG-Z"
      }
    },
    {
      "cell_type": "code",
      "source": [
        "!git clone https://github.com/facebookresearch/fastText.git\n",
        "!cd fastText && make"
      ],
      "metadata": {
        "colab": {
          "base_uri": "https://localhost:8080/"
        },
        "id": "CBNPitZADMEU",
        "outputId": "9c09b741-7553-402e-ec7f-ed9ab4e21772"
      },
      "execution_count": null,
      "outputs": [
        {
          "output_type": "stream",
          "name": "stdout",
          "text": [
            "Cloning into 'fastText'...\n",
            "remote: Enumerating objects: 3962, done.\u001b[K\n",
            "remote: Counting objects: 100% (990/990), done.\u001b[K\n",
            "remote: Compressing objects: 100% (160/160), done.\u001b[K\n",
            "remote: Total 3962 (delta 881), reused 843 (delta 826), pack-reused 2972\u001b[K\n",
            "Receiving objects: 100% (3962/3962), 8.26 MiB | 2.16 MiB/s, done.\n",
            "Resolving deltas: 100% (2519/2519), done.\n",
            "c++ -pthread -std=c++11 -march=native -O3 -funroll-loops -DNDEBUG -c src/args.cc\n",
            "c++ -pthread -std=c++11 -march=native -O3 -funroll-loops -DNDEBUG -c src/autotune.cc\n",
            "c++ -pthread -std=c++11 -march=native -O3 -funroll-loops -DNDEBUG -c src/matrix.cc\n",
            "c++ -pthread -std=c++11 -march=native -O3 -funroll-loops -DNDEBUG -c src/dictionary.cc\n",
            "c++ -pthread -std=c++11 -march=native -O3 -funroll-loops -DNDEBUG -c src/loss.cc\n",
            "c++ -pthread -std=c++11 -march=native -O3 -funroll-loops -DNDEBUG -c src/productquantizer.cc\n",
            "c++ -pthread -std=c++11 -march=native -O3 -funroll-loops -DNDEBUG -c src/densematrix.cc\n",
            "c++ -pthread -std=c++11 -march=native -O3 -funroll-loops -DNDEBUG -c src/quantmatrix.cc\n",
            "c++ -pthread -std=c++11 -march=native -O3 -funroll-loops -DNDEBUG -c src/vector.cc\n",
            "c++ -pthread -std=c++11 -march=native -O3 -funroll-loops -DNDEBUG -c src/model.cc\n",
            "c++ -pthread -std=c++11 -march=native -O3 -funroll-loops -DNDEBUG -c src/utils.cc\n",
            "c++ -pthread -std=c++11 -march=native -O3 -funroll-loops -DNDEBUG -c src/meter.cc\n",
            "c++ -pthread -std=c++11 -march=native -O3 -funroll-loops -DNDEBUG -c src/fasttext.cc\n",
            "c++ -pthread -std=c++11 -march=native -O3 -funroll-loops -DNDEBUG args.o autotune.o matrix.o dictionary.o loss.o productquantizer.o densematrix.o quantmatrix.o vector.o model.o utils.o meter.o fasttext.o src/main.cc -o fasttext\n"
          ]
        }
      ]
    },
    {
      "cell_type": "code",
      "source": [
        "!fastText/fasttext skipgram -input TNC3_unicode_tokenized_clean.txt -output models/model_fasttext_sk -minn 2 -maxn 5 -dim 50"
      ],
      "metadata": {
        "colab": {
          "base_uri": "https://localhost:8080/"
        },
        "id": "dFa6vw2dDUEQ",
        "outputId": "1bf6abf0-cd5a-49e3-e2d2-4480fb7d3313"
      },
      "execution_count": null,
      "outputs": [
        {
          "output_type": "stream",
          "name": "stdout",
          "text": [
            "Read 33M words\n",
            "Number of words:  61636\n",
            "Number of labels: 0\n",
            "Progress:   6.4% words/sec/thread:   18579 lr:  0.046786 avg.loss:  1.692830 ETA:   0h11m44s^C\n"
          ]
        }
      ]
    },
    {
      "cell_type": "code",
      "source": [
        "!gdown 1JQCk77f8uKavXJ8jJwqJahWyItEi7JDx"
      ],
      "metadata": {
        "colab": {
          "base_uri": "https://localhost:8080/"
        },
        "id": "zPIrsgLdFKuO",
        "outputId": "bf0c8009-5c74-41d6-d835-4f6e5d862d1a"
      },
      "execution_count": null,
      "outputs": [
        {
          "output_type": "stream",
          "name": "stdout",
          "text": [
            "Downloading...\n",
            "From: https://drive.google.com/uc?id=1JQCk77f8uKavXJ8jJwqJahWyItEi7JDx\n",
            "To: /content/model_fasttext_cbow_dim_100.bin\n",
            "100% 851M/851M [00:14<00:00, 57.9MB/s]\n"
          ]
        }
      ]
    },
    {
      "cell_type": "code",
      "source": [
        "!pip install fasttext"
      ],
      "metadata": {
        "colab": {
          "base_uri": "https://localhost:8080/"
        },
        "id": "wXMnOZLXF0cm",
        "outputId": "53e071b2-9967-4a07-f0b5-dd7de73a0887"
      },
      "execution_count": null,
      "outputs": [
        {
          "output_type": "stream",
          "name": "stdout",
          "text": [
            "Collecting fasttext\n",
            "  Downloading fasttext-0.9.2.tar.gz (68 kB)\n",
            "\u001b[?25l     \u001b[90m━━━━━━━━━━━━━━━━━━━━━━━━━━━━━━━━━━━━━━━━\u001b[0m \u001b[32m0.0/68.8 kB\u001b[0m \u001b[31m?\u001b[0m eta \u001b[36m-:--:--\u001b[0m\r\u001b[2K     \u001b[91m━━━━━━━━━━━━━━━━━━━━━━━━━━━━━━━━━━━\u001b[0m\u001b[91m╸\u001b[0m\u001b[90m━━━━\u001b[0m \u001b[32m61.4/68.8 kB\u001b[0m \u001b[31m2.1 MB/s\u001b[0m eta \u001b[36m0:00:01\u001b[0m\r\u001b[2K     \u001b[90m━━━━━━━━━━━━━━━━━━━━━━━━━━━━━━━━━━━━━━━━\u001b[0m \u001b[32m68.8/68.8 kB\u001b[0m \u001b[31m1.9 MB/s\u001b[0m eta \u001b[36m0:00:00\u001b[0m\n",
            "\u001b[?25h  Preparing metadata (setup.py) ... \u001b[?25l\u001b[?25hdone\n",
            "Collecting pybind11>=2.2 (from fasttext)\n",
            "  Using cached pybind11-2.11.1-py3-none-any.whl (227 kB)\n",
            "Requirement already satisfied: setuptools>=0.7.0 in /usr/local/lib/python3.10/dist-packages (from fasttext) (67.7.2)\n",
            "Requirement already satisfied: numpy in /usr/local/lib/python3.10/dist-packages (from fasttext) (1.23.5)\n",
            "Building wheels for collected packages: fasttext\n",
            "  Building wheel for fasttext (setup.py) ... \u001b[?25l\u001b[?25hdone\n",
            "  Created wheel for fasttext: filename=fasttext-0.9.2-cp310-cp310-linux_x86_64.whl size=4199771 sha256=3717c2da5235061ba3af46e6d97860f495a6587f8af02966fbe3c3554e81113e\n",
            "  Stored in directory: /root/.cache/pip/wheels/a5/13/75/f811c84a8ab36eedbaef977a6a58a98990e8e0f1967f98f394\n",
            "Successfully built fasttext\n",
            "Installing collected packages: pybind11, fasttext\n",
            "Successfully installed fasttext-0.9.2 pybind11-2.11.1\n"
          ]
        }
      ]
    },
    {
      "cell_type": "code",
      "source": [
        "import fasttext\n",
        "model_fasttext_cb = fasttext.load_model(\"model_fasttext_cbow_dim_100.bin\")"
      ],
      "metadata": {
        "colab": {
          "base_uri": "https://localhost:8080/"
        },
        "id": "tiQx4QDRDq9h",
        "outputId": "86a094fe-092a-4dc4-b6e1-92fa315ff701"
      },
      "execution_count": null,
      "outputs": [
        {
          "output_type": "stream",
          "name": "stderr",
          "text": [
            "Warning : `load_model` does not return WordVectorModel or SupervisedModel any more, but a `FastText` object which is very similar.\n"
          ]
        }
      ]
    },
    {
      "cell_type": "code",
      "source": [
        "model_fasttext_cb.words"
      ],
      "metadata": {
        "id": "QqywxQwyGyle"
      },
      "execution_count": null,
      "outputs": []
    },
    {
      "cell_type": "code",
      "source": [
        "model_fasttext_cb.get_word_vector(\"เทพ\")"
      ],
      "metadata": {
        "colab": {
          "base_uri": "https://localhost:8080/"
        },
        "id": "vzibX-kPGz5F",
        "outputId": "ea8bf992-264c-4ab9-c899-857c4cb419a8"
      },
      "execution_count": null,
      "outputs": [
        {
          "output_type": "execute_result",
          "data": {
            "text/plain": [
              "array([-0.9705575 ,  2.955249  ,  1.1004391 ,  0.07700283,  3.7467115 ,\n",
              "       -0.18661818, -1.9264429 ,  1.5066932 ,  1.2004347 ,  0.4742053 ,\n",
              "        0.07053559,  1.1160309 ,  0.20122962, -3.2299907 , -1.8442885 ,\n",
              "       -1.163639  , -2.506312  , -0.08779587, -0.08629904,  2.0619462 ,\n",
              "       -0.52333635,  0.8456706 ,  1.952982  ,  2.4863625 , -1.5242361 ,\n",
              "        1.3801194 , -3.0995238 , -3.8002193 , -0.5166094 ,  1.3106227 ,\n",
              "        0.6606444 ,  2.067275  , -2.4912941 , -0.46194214,  1.3917391 ,\n",
              "        1.4869585 ,  1.9996153 ,  2.9898796 , -0.6531104 , -1.28202   ,\n",
              "       -2.2014275 ,  0.7247955 ,  1.4397647 ,  0.40283105,  2.8453755 ,\n",
              "        2.4526684 ,  0.6251063 , -0.12666364,  1.41514   ,  2.3324332 ,\n",
              "        3.5361454 , -1.267484  , -0.1581271 , -0.96117854, -0.01344541,\n",
              "        0.20949686, -4.0563345 ,  1.9071729 , -1.9961183 ,  0.10133295,\n",
              "       -2.1623337 , -1.2923673 , -0.79321146, -0.30348793,  1.2173681 ,\n",
              "       -2.1027005 , -0.1933382 ,  0.9845163 ,  0.38624552, -1.8358631 ,\n",
              "        2.2796686 ,  0.8970971 , -0.44193226, -3.2758434 ,  0.3895458 ,\n",
              "        3.0797188 ,  1.414004  ,  0.89320594, -1.0830474 , -0.35689804,\n",
              "       -1.3063114 , -1.3936579 ,  3.432326  , -0.4213938 ,  2.5074723 ,\n",
              "       -0.8873062 , -3.10427   , -2.402942  , -0.3249723 ,  0.4213071 ,\n",
              "       -0.6049386 , -0.51320857,  0.383199  , -0.45327038, -0.14365453,\n",
              "       -1.3729545 , -1.9009508 ,  0.2602659 , -0.9184108 ,  0.5429117 ],\n",
              "      dtype=float32)"
            ]
          },
          "metadata": {},
          "execution_count": 31
        }
      ]
    },
    {
      "cell_type": "code",
      "source": [
        "!wget https://dl.fbaipublicfiles.com/fasttext/vectors-crawl/cc.th.300.bin.gz"
      ],
      "metadata": {
        "colab": {
          "base_uri": "https://localhost:8080/"
        },
        "id": "C8CArFIkG1EG",
        "outputId": "4fbcae46-aee7-45bf-f20b-077fe5747b47"
      },
      "execution_count": null,
      "outputs": [
        {
          "output_type": "stream",
          "name": "stdout",
          "text": [
            "--2023-10-07 08:12:29--  https://dl.fbaipublicfiles.com/fasttext/vectors-crawl/cc.th.300.bin.gz\n",
            "Resolving dl.fbaipublicfiles.com (dl.fbaipublicfiles.com)... 13.226.210.15, 13.226.210.25, 13.226.210.111, ...\n",
            "Connecting to dl.fbaipublicfiles.com (dl.fbaipublicfiles.com)|13.226.210.15|:443... connected.\n",
            "HTTP request sent, awaiting response... 200 OK\n",
            "Length: 4509650360 (4.2G) [application/octet-stream]\n",
            "Saving to: ‘cc.th.300.bin.gz’\n",
            "\n",
            "cc.th.300.bin.gz    100%[===================>]   4.20G  63.6MB/s    in 32s     \n",
            "\n",
            "2023-10-07 08:13:00 (136 MB/s) - ‘cc.th.300.bin.gz’ saved [4509650360/4509650360]\n",
            "\n"
          ]
        }
      ]
    },
    {
      "cell_type": "code",
      "source": [
        "!gzip -d cc.th.300.bin.gz"
      ],
      "metadata": {
        "id": "eiMVw7-bMmF5"
      },
      "execution_count": null,
      "outputs": []
    },
    {
      "cell_type": "code",
      "source": [
        "import fasttext\n",
        "ft = fasttext.load_model(\"cc.th.300.bin\")"
      ],
      "metadata": {
        "colab": {
          "base_uri": "https://localhost:8080/"
        },
        "id": "z-0j6hHxIwbE",
        "outputId": "5c0d6f61-dfee-4bb4-909b-3f78dd48f02e"
      },
      "execution_count": null,
      "outputs": [
        {
          "output_type": "stream",
          "name": "stderr",
          "text": [
            "Warning : `load_model` does not return WordVectorModel or SupervisedModel any more, but a `FastText` object which is very similar.\n"
          ]
        }
      ]
    },
    {
      "cell_type": "code",
      "source": [
        "ft.get_nearest_neighbors('เขียว')"
      ],
      "metadata": {
        "colab": {
          "base_uri": "https://localhost:8080/"
        },
        "id": "uh4ApZ1iI5VX",
        "outputId": "c2cbc29c-fa7d-4028-deeb-f9788a0729a8"
      },
      "execution_count": null,
      "outputs": [
        {
          "output_type": "execute_result",
          "data": {
            "text/plain": [
              "[(0.6511114239692688, 'เหลือง'),\n",
              " (0.6403077244758606, 'แดง'),\n",
              " (0.6266226768493652, 'ขี้ม้า'),\n",
              " (0.5977804660797119, 'เขียวๆ'),\n",
              " (0.5923439860343933, 'ม่วง'),\n",
              " (0.5872359871864319, 'เขียว4'),\n",
              " (0.5799797177314758, 'สีน้ำเงิน'),\n",
              " (0.5773358941078186, 'น้ำเงิน'),\n",
              " (0.5726101994514465, 'เขียว:มี'),\n",
              " (0.5657431483268738, 'สี')]"
            ]
          },
          "metadata": {},
          "execution_count": 61
        }
      ]
    },
    {
      "cell_type": "code",
      "source": [
        "ft.get_analogies(\"มหาวิทยาลัย\", \"ไทย\", \"สงขลา\")"
      ],
      "metadata": {
        "colab": {
          "base_uri": "https://localhost:8080/"
        },
        "id": "1Bl7syIII6bT",
        "outputId": "bf44dcf8-b785-44be-a004-2ee0cbcc4d28"
      },
      "execution_count": null,
      "outputs": [
        {
          "output_type": "execute_result",
          "data": {
            "text/plain": [
              "[(0.5488498210906982, 'วิทยาเขต'),\n",
              " (0.5331023335456848, 'สงขลา5มหาวิทยาลัย'),\n",
              " (0.5202982425689697, 'นครินทร์'),\n",
              " (0.5082235932350159, 'ม.อ.หาดใหญ่'),\n",
              " (0.5045322775840759, 'มมส.มหาวิทยาลัย'),\n",
              " (0.49826353788375854, 'ปกศ.มหาวิทยาลัย'),\n",
              " (0.4979543387889862, 'ณ.มหาวิทยาลัย'),\n",
              " (0.49551644921302795, 'kaiwmanมหาวิทยาลัย'),\n",
              " (0.49159345030784607, 'ทปอ.มหาวิทยาลัย'),\n",
              " (0.48754674196243286, 'เขต3มหาวิทยาลัย')]"
            ]
          },
          "metadata": {},
          "execution_count": 62
        }
      ]
    },
    {
      "cell_type": "markdown",
      "source": [
        "##GloVe"
      ],
      "metadata": {
        "id": "1cO_yV0VN6dn"
      }
    },
    {
      "cell_type": "code",
      "source": [
        "!wget http://nlp.stanford.edu/data/glove.6B.zip\n",
        "!unzip glove.6B.zip"
      ],
      "metadata": {
        "colab": {
          "base_uri": "https://localhost:8080/"
        },
        "id": "5Mnk22AHN8gW",
        "outputId": "afa13815-422a-4451-aede-91091bfe8e33"
      },
      "execution_count": null,
      "outputs": [
        {
          "output_type": "stream",
          "name": "stdout",
          "text": [
            "--2023-10-07 08:21:53--  http://nlp.stanford.edu/data/glove.6B.zip\n",
            "Resolving nlp.stanford.edu (nlp.stanford.edu)... 171.64.67.140\n",
            "Connecting to nlp.stanford.edu (nlp.stanford.edu)|171.64.67.140|:80... connected.\n",
            "HTTP request sent, awaiting response... 302 Found\n",
            "Location: https://nlp.stanford.edu/data/glove.6B.zip [following]\n",
            "--2023-10-07 08:21:53--  https://nlp.stanford.edu/data/glove.6B.zip\n",
            "Connecting to nlp.stanford.edu (nlp.stanford.edu)|171.64.67.140|:443... connected.\n",
            "HTTP request sent, awaiting response... 301 Moved Permanently\n",
            "Location: https://downloads.cs.stanford.edu/nlp/data/glove.6B.zip [following]\n",
            "--2023-10-07 08:21:53--  https://downloads.cs.stanford.edu/nlp/data/glove.6B.zip\n",
            "Resolving downloads.cs.stanford.edu (downloads.cs.stanford.edu)... 171.64.64.22\n",
            "Connecting to downloads.cs.stanford.edu (downloads.cs.stanford.edu)|171.64.64.22|:443... connected.\n",
            "HTTP request sent, awaiting response... 200 OK\n",
            "Length: 862182613 (822M) [application/zip]\n",
            "Saving to: ‘glove.6B.zip’\n",
            "\n",
            "glove.6B.zip        100%[===================>] 822.24M  5.02MB/s    in 2m 39s  \n",
            "\n",
            "2023-10-07 08:24:33 (5.16 MB/s) - ‘glove.6B.zip’ saved [862182613/862182613]\n",
            "\n",
            "Archive:  glove.6B.zip\n",
            "  inflating: glove.6B.50d.txt        \n",
            "  inflating: glove.6B.100d.txt       \n",
            "  inflating: glove.6B.200d.txt       \n",
            "  inflating: glove.6B.300d.txt       \n"
          ]
        }
      ]
    },
    {
      "cell_type": "code",
      "source": [
        "import numpy as np\n",
        "\n",
        "# Define the path to the GloVe file\n",
        "glove_file = 'glove.6B.100d.txt'  # Change the filename if you downloaded a different version\n",
        "\n",
        "# Create a dictionary to map words to their corresponding word vectors\n",
        "word_vectors = {}\n",
        "\n",
        "with open(glove_file, 'r', encoding='utf-8') as file:\n",
        "    for line in file:\n",
        "        values = line.split()\n",
        "        word = values[0]\n",
        "        vector = np.array(values[1:], dtype='float32')\n",
        "        word_vectors[word] = vector\n"
      ],
      "metadata": {
        "id": "3HVt1dhdOM5-"
      },
      "execution_count": null,
      "outputs": []
    },
    {
      "cell_type": "code",
      "source": [
        "# Example: Accessing the vector for a specific word (e.g., \"example\")\n",
        "word_vector_example = word_vectors.get('king')\n",
        "print(\"Vector for 'king':\", word_vector_example)"
      ],
      "metadata": {
        "colab": {
          "base_uri": "https://localhost:8080/"
        },
        "id": "GoivWZmWOOKe",
        "outputId": "31247a50-a929-42c6-d15c-97c810154097"
      },
      "execution_count": null,
      "outputs": [
        {
          "output_type": "stream",
          "name": "stdout",
          "text": [
            "Vector for 'king': [-0.32307  -0.87616   0.21977   0.25268   0.22976   0.7388   -0.37954\n",
            " -0.35307  -0.84369  -1.1113   -0.30266   0.33178  -0.25113   0.30448\n",
            " -0.077491 -0.89815   0.092496 -1.1407   -0.58324   0.66869  -0.23122\n",
            " -0.95855   0.28262  -0.078848  0.75315   0.26584   0.3422   -0.33949\n",
            "  0.95608   0.065641  0.45747   0.39835   0.57965   0.39267  -0.21851\n",
            "  0.58795  -0.55999   0.63368  -0.043983 -0.68731  -0.37841   0.38026\n",
            "  0.61641  -0.88269  -0.12346  -0.37928  -0.38318   0.23868   0.6685\n",
            " -0.43321  -0.11065   0.081723  1.1569    0.78958  -0.21223  -2.3211\n",
            " -0.67806   0.44561   0.65707   0.1045    0.46217   0.19912   0.25802\n",
            "  0.057194  0.53443  -0.43133  -0.34311   0.59789  -0.58417   0.068995\n",
            "  0.23944  -0.85181   0.30379  -0.34177  -0.25746  -0.031101 -0.16285\n",
            "  0.45169  -0.91627   0.64521   0.73281  -0.22752   0.30226   0.044801\n",
            " -0.83741   0.55006  -0.52506  -1.7357    0.4751   -0.70487   0.056939\n",
            " -0.7132    0.089623  0.41394  -1.3363   -0.61915  -0.33089  -0.52881\n",
            "  0.16483  -0.98878 ]\n"
          ]
        }
      ]
    },
    {
      "cell_type": "code",
      "source": [
        "import numpy as np\n",
        "from sklearn.metrics.pairwise import cosine_similarity\n",
        "\n",
        "# Function to calculate cosine similarity between two words\n",
        "def get_cosine_similarity(word1, word2):\n",
        "    if word1 in word_vectors and word2 in word_vectors:\n",
        "        vec1 = word_vectors[word1].reshape(1, -1)\n",
        "        vec2 = word_vectors[word2].reshape(1, -1)\n",
        "        similarity = cosine_similarity(vec1, vec2)\n",
        "        return similarity[0][0]\n",
        "    else:\n",
        "        return 0  # Return 0 if either word is not found in the embeddings\n",
        "\n",
        "# Example usage\n",
        "word1 = 'king'\n",
        "word2 = 'queen'\n",
        "similarity_score = get_cosine_similarity(word1, word2)\n",
        "print(f\"Similarity between '{word1}' and '{word2}': {similarity_score:.2f}\")\n",
        "\n",
        "word3 = 'apple'\n",
        "word4 = 'banana'\n",
        "similarity_score = get_cosine_similarity(word3, word4)\n",
        "print(f\"Similarity between '{word3}' and '{word4}': {similarity_score:.2f}\")"
      ],
      "metadata": {
        "colab": {
          "base_uri": "https://localhost:8080/"
        },
        "id": "8NxbsgZoOQE4",
        "outputId": "5d7898cc-b4c5-4dfd-ac40-1e0a67d1f6dd"
      },
      "execution_count": null,
      "outputs": [
        {
          "output_type": "stream",
          "name": "stdout",
          "text": [
            "Similarity between 'king' and 'queen': 0.75\n",
            "Similarity between 'apple' and 'banana': 0.51\n"
          ]
        }
      ]
    },
    {
      "cell_type": "code",
      "source": [
        "from sklearn.decomposition import PCA\n",
        "import matplotlib.pyplot as plt\n",
        "\n",
        "words_to_plot = ['king', 'queen', 'man', 'woman', 'green', 'red','blue','black','pink', 'apple', 'banana','tree','forest']\n",
        "\n",
        "# Get vectors for the words to plot\n",
        "vectors_to_plot = [word_vectors[word] for word in words_to_plot]\n",
        "\n",
        "# Perform dimensionality reduction using PCA\n",
        "n_components = 2  # Number of components for PCA\n",
        "pca = PCA(n_components=n_components)\n",
        "pca_result = pca.fit_transform(vectors_to_plot)\n",
        "\n",
        "# Plot the words in 2D space\n",
        "plt.figure(figsize=(10, 10))\n",
        "plt.scatter(pca_result[:, 0], pca_result[:, 1], s=100)\n",
        "\n",
        "# Annotate points with word labels\n",
        "for i, word in enumerate(words_to_plot):\n",
        "    plt.annotate(word, (pca_result[i, 0], pca_result[i, 1]))\n",
        "\n",
        "plt.title('Selected Words in 2D Space (PCA)')\n",
        "plt.grid()\n",
        "plt.show()"
      ],
      "metadata": {
        "colab": {
          "base_uri": "https://localhost:8080/",
          "height": 853
        },
        "id": "VTsvx-orOQl-",
        "outputId": "c9c5496a-3fcb-476d-9a25-fba2f13434b2"
      },
      "execution_count": null,
      "outputs": [
        {
          "output_type": "display_data",
          "data": {
            "text/plain": [
              "<Figure size 1000x1000 with 1 Axes>"
            ],
            "image/png": "[encoded data removed]"
          },
          "metadata": {}
        }
      ]
    },
    {
      "cell_type": "code",
      "source": [
        "!pip install gensim"
      ],
      "metadata": {
        "colab": {
          "base_uri": "https://localhost:8080/"
        },
        "id": "Z4AtxmYaU_W5",
        "outputId": "515167f3-26e7-4bc8-bc59-2a3e1fbac308"
      },
      "execution_count": null,
      "outputs": [
        {
          "output_type": "stream",
          "name": "stdout",
          "text": [
            "Requirement already satisfied: gensim in /usr/local/lib/python3.10/dist-packages (4.3.2)\n",
            "Requirement already satisfied: numpy>=1.18.5 in /usr/local/lib/python3.10/dist-packages (from gensim) (1.23.5)\n",
            "Requirement already satisfied: scipy>=1.7.0 in /usr/local/lib/python3.10/dist-packages (from gensim) (1.11.3)\n",
            "Requirement already satisfied: smart-open>=1.8.1 in /usr/local/lib/python3.10/dist-packages (from gensim) (6.4.0)\n"
          ]
        }
      ]
    },
    {
      "cell_type": "code",
      "source": [
        "!wget https://zenodo.org/record/7280277/files/LTW2V_v1.0-window15.bin"
      ],
      "metadata": {
        "colab": {
          "base_uri": "https://localhost:8080/"
        },
        "id": "b9tOXhqmVAn3",
        "outputId": "d5faab06-a841-4679-dca0-23584fbc2cf5"
      },
      "execution_count": null,
      "outputs": [
        {
          "output_type": "stream",
          "name": "stdout",
          "text": [
            "--2023-10-07 08:51:39--  https://zenodo.org/record/7280277/files/LTW2V_v1.0-window15.bin\n",
            "Resolving zenodo.org (zenodo.org)... 188.185.124.72\n",
            "Connecting to zenodo.org (zenodo.org)|188.185.124.72|:443... connected.\n",
            "HTTP request sent, awaiting response... 200 OK\n",
            "Length: 960468057 (916M) [application/octet-stream]\n",
            "Saving to: ‘LTW2V_v1.0-window15.bin’\n",
            "\n",
            "LTW2V_v1.0-window15 100%[===================>] 915.97M   409KB/s    in 38m 40s \n",
            "\n",
            "2023-10-07 09:30:21 (404 KB/s) - ‘LTW2V_v1.0-window15.bin’ saved [960468057/960468057]\n",
            "\n"
          ]
        }
      ]
    },
    {
      "cell_type": "code",
      "source": [
        "from gensim.models import KeyedVectors\n",
        "\n",
        "model15 = KeyedVectors.load_word2vec_format('LTW2V_v1.0-window15.bin', binary=True, unicode_errors='ignore')"
      ],
      "metadata": {
        "colab": {
          "base_uri": "https://localhost:8080/"
        },
        "id": "wWLlBSVaVDc2",
        "outputId": "367afb4e-aeae-49a6-f807-e58f6d317758"
      },
      "execution_count": null,
      "outputs": [
        {
          "output_type": "stream",
          "name": "stderr",
          "text": [
            "WARNING:gensim.models.keyedvectors:duplicate word 'จริง' in word2vec file, ignoring all but first\n",
            "WARNING:gensim.models.keyedvectors:duplicate word 'ต่าง' in word2vec file, ignoring all but first\n",
            "WARNING:gensim.models.keyedvectors:duplicate word 'ง่าย' in word2vec file, ignoring all but first\n",
            "WARNING:gensim.models.keyedvectors:duplicate word 'เพื่อน' in word2vec file, ignoring all but first\n",
            "WARNING:gensim.models.keyedvectors:duplicate word 'ดี' in word2vec file, ignoring all but first\n",
            "WARNING:gensim.models.keyedvectors:duplicate word 'ทุก' in word2vec file, ignoring all but first\n",
            "WARNING:gensim.models.keyedvectors:duplicate word 'บ่อย' in word2vec file, ignoring all but first\n",
            "WARNING:gensim.models.keyedvectors:duplicate word 'ค่อย' in word2vec file, ignoring all but first\n",
            "WARNING:gensim.models.keyedvectors:duplicate word 'น้อง' in word2vec file, ignoring all but first\n",
            "WARNING:gensim.models.keyedvectors:duplicate word 'ใคร' in word2vec file, ignoring all but first\n",
            "WARNING:gensim.models.keyedvectors:duplicate word 'เร็ว' in word2vec file, ignoring all but first\n",
            "WARNING:gensim.models.keyedvectors:duplicate word 'ทั้ง' in word2vec file, ignoring all but first\n",
            "WARNING:gensim.models.keyedvectors:duplicate word 'คล้าย' in word2vec file, ignoring all but first\n",
            "WARNING:gensim.models.keyedvectors:duplicate word 'สด' in word2vec file, ignoring all but first\n",
            "WARNING:gensim.models.keyedvectors:duplicate word 'ทั่ว' in word2vec file, ignoring all but first\n",
            "WARNING:gensim.models.keyedvectors:duplicate word 'ตรง' in word2vec file, ignoring all but first\n",
            "WARNING:gensim.models.keyedvectors:duplicate word 'แปลก' in word2vec file, ignoring all but first\n",
            "WARNING:gensim.models.keyedvectors:duplicate word 'ข้าง' in word2vec file, ignoring all but first\n",
            "WARNING:gensim.models.keyedvectors:duplicate word 'แท้' in word2vec file, ignoring all but first\n",
            "WARNING:gensim.models.keyedvectors:duplicate word 'เรื่อย' in word2vec file, ignoring all but first\n",
            "WARNING:gensim.models.keyedvectors:duplicate word 'แมนเชสเตอร์' in word2vec file, ignoring all but first\n",
            "WARNING:gensim.models.keyedvectors:duplicate word 'ราว' in word2vec file, ignoring all but first\n",
            "WARNING:gensim.models.keyedvectors:duplicate word 'ไหน' in word2vec file, ignoring all but first\n",
            "WARNING:gensim.models.keyedvectors:duplicate word 'ล้วน' in word2vec file, ignoring all but first\n",
            "WARNING:gensim.models.keyedvectors:duplicate word 'เงียบ' in word2vec file, ignoring all but first\n",
            "WARNING:gensim.models.keyedvectors:duplicate word 'เร็ว' in word2vec file, ignoring all but first\n",
            "WARNING:gensim.models.keyedvectors:duplicate word 'อินเตอร์' in word2vec file, ignoring all but first\n",
            "WARNING:gensim.models.keyedvectors:duplicate word 'ไร' in word2vec file, ignoring all but first\n",
            "WARNING:gensim.models.keyedvectors:duplicate word 'วัน' in word2vec file, ignoring all but first\n",
            "WARNING:gensim.models.keyedvectors:duplicate word 'ระยะ' in word2vec file, ignoring all but first\n",
            "WARNING:gensim.models.keyedvectors:duplicate word 'เสมอ' in word2vec file, ignoring all but first\n",
            "WARNING:gensim.models.keyedvectors:duplicate word 'เฉย' in word2vec file, ignoring all but first\n",
            "WARNING:gensim.models.keyedvectors:duplicate word 'เรียบ' in word2vec file, ignoring all but first\n",
            "WARNING:gensim.models.keyedvectors:duplicate word '7' in word2vec file, ignoring all but first\n",
            "WARNING:gensim.models.keyedvectors:duplicate word 'ติด' in word2vec file, ignoring all but first\n",
            "WARNING:gensim.models.keyedvectors:duplicate word 'เพลิน' in word2vec file, ignoring all but first\n",
            "WARNING:gensim.models.keyedvectors:duplicate word 'อยู่ดี' in word2vec file, ignoring all but first\n",
            "WARNING:gensim.models.keyedvectors:duplicate word 'อยู่' in word2vec file, ignoring all but first\n",
            "WARNING:gensim.models.keyedvectors:duplicate word 'ว่าง' in word2vec file, ignoring all but first\n",
            "WARNING:gensim.models.keyedvectors:duplicate word 'นิ่ง' in word2vec file, ignoring all but first\n",
            "WARNING:gensim.models.keyedvectors:duplicate word 'รัว' in word2vec file, ignoring all but first\n",
            "WARNING:gensim.models.keyedvectors:duplicate word 'ห่าง' in word2vec file, ignoring all but first\n",
            "WARNING:gensim.models.keyedvectors:duplicate word 'รวย' in word2vec file, ignoring all but first\n",
            "WARNING:gensim.models.keyedvectors:duplicate word 'กล้วย' in word2vec file, ignoring all but first\n",
            "WARNING:gensim.models.keyedvectors:duplicate word 'พอ' in word2vec file, ignoring all but first\n",
            "WARNING:gensim.models.keyedvectors:duplicate word 'สด' in word2vec file, ignoring all but first\n",
            "WARNING:gensim.models.keyedvectors:duplicate word 'ไป' in word2vec file, ignoring all but first\n",
            "WARNING:gensim.models.keyedvectors:duplicate word 'รีบ' in word2vec file, ignoring all but first\n",
            "WARNING:gensim.models.keyedvectors:duplicate word 'ไว' in word2vec file, ignoring all but first\n",
            "WARNING:gensim.models.keyedvectors:duplicate word 'กัลโช่' in word2vec file, ignoring all but first\n",
            "WARNING:gensim.models.keyedvectors:duplicate word 'พื้น' in word2vec file, ignoring all but first\n",
            "WARNING:gensim.models.keyedvectors:duplicate word 'ลม' in word2vec file, ignoring all but first\n",
            "WARNING:gensim.models.keyedvectors:duplicate word 'ถี่' in word2vec file, ignoring all but first\n",
            "WARNING:gensim.models.keyedvectors:duplicate word 'แฮร์รี่' in word2vec file, ignoring all but first\n",
            "WARNING:gensim.models.keyedvectors:duplicate word 'หมาด' in word2vec file, ignoring all but first\n",
            "WARNING:gensim.models.keyedvectors:duplicate word 'สมเด็จพระเทพรัตนราชสุดาฯ' in word2vec file, ignoring all but first\n",
            "WARNING:gensim.models.keyedvectors:duplicate word 'เนือง' in word2vec file, ignoring all but first\n",
            "WARNING:gensim.models.keyedvectors:duplicate word 'หยาบ' in word2vec file, ignoring all but first\n",
            "WARNING:gensim.models.keyedvectors:duplicate word 'ลอย' in word2vec file, ignoring all but first\n",
            "WARNING:gensim.models.keyedvectors:duplicate word 'บ้า' in word2vec file, ignoring all but first\n",
            "WARNING:gensim.models.keyedvectors:duplicate word 'แหะ' in word2vec file, ignoring all but first\n",
            "WARNING:gensim.models.keyedvectors:duplicate word 'แสก' in word2vec file, ignoring all but first\n",
            "WARNING:gensim.models.keyedvectors:duplicate word 'จู่' in word2vec file, ignoring all but first\n",
            "WARNING:gensim.models.keyedvectors:duplicate word 'หลอก' in word2vec file, ignoring all but first\n",
            "WARNING:gensim.models.keyedvectors:duplicate word 'ตึง' in word2vec file, ignoring all but first\n",
            "WARNING:gensim.models.keyedvectors:duplicate word 'ทูลเกล้าฯ' in word2vec file, ignoring all but first\n",
            "WARNING:gensim.models.keyedvectors:duplicate word 'ฮือ' in word2vec file, ignoring all but first\n",
            "WARNING:gensim.models.keyedvectors:duplicate word 'เขิน' in word2vec file, ignoring all but first\n",
            "WARNING:gensim.models.keyedvectors:duplicate word 'ลวก' in word2vec file, ignoring all but first\n",
            "WARNING:gensim.models.keyedvectors:duplicate word 'เนิ่น' in word2vec file, ignoring all but first\n",
            "WARNING:gensim.models.keyedvectors:duplicate word 'ป.' in word2vec file, ignoring all but first\n",
            "WARNING:gensim.models.keyedvectors:duplicate word 'ปรอย' in word2vec file, ignoring all but first\n",
            "WARNING:gensim.models.keyedvectors:duplicate word 'รุ่น' in word2vec file, ignoring all but first\n",
            "WARNING:gensim.models.keyedvectors:duplicate word 'กลาย' in word2vec file, ignoring all but first\n",
            "WARNING:gensim.models.keyedvectors:duplicate word 'ซื่อ' in word2vec file, ignoring all but first\n",
            "WARNING:gensim.models.keyedvectors:duplicate word 'หยก' in word2vec file, ignoring all but first\n",
            "WARNING:gensim.models.keyedvectors:duplicate word 'สลัว' in word2vec file, ignoring all but first\n",
            "WARNING:gensim.models.keyedvectors:duplicate word 'วอชิงตัน' in word2vec file, ignoring all but first\n",
            "WARNING:gensim.models.keyedvectors:duplicate word 'คร่าว' in word2vec file, ignoring all but first\n",
            "WARNING:gensim.models.keyedvectors:duplicate word 'หย่อม' in word2vec file, ignoring all but first\n",
            "WARNING:gensim.models.keyedvectors:duplicate word 'หมู' in word2vec file, ignoring all but first\n",
            "WARNING:gensim.models.keyedvectors:duplicate word 'โดด' in word2vec file, ignoring all but first\n",
            "WARNING:gensim.models.keyedvectors:duplicate word 'ลูก' in word2vec file, ignoring all but first\n",
            "WARNING:gensim.models.keyedvectors:duplicate word 'หวิว' in word2vec file, ignoring all but first\n",
            "WARNING:gensim.models.keyedvectors:duplicate word 'เอื่อย' in word2vec file, ignoring all but first\n",
            "WARNING:gensim.models.keyedvectors:duplicate word 'มิราเคิล' in word2vec file, ignoring all but first\n",
            "WARNING:gensim.models.keyedvectors:duplicate word 'ครึ่ง' in word2vec file, ignoring all but first\n",
            "WARNING:gensim.models.keyedvectors:duplicate word 'ห้วน' in word2vec file, ignoring all but first\n",
            "WARNING:gensim.models.keyedvectors:duplicate word 'แผ่ว' in word2vec file, ignoring all but first\n",
            "WARNING:gensim.models.keyedvectors:duplicate word 'ตุ' in word2vec file, ignoring all but first\n",
            "WARNING:gensim.models.keyedvectors:duplicate word 'อาด' in word2vec file, ignoring all but first\n",
            "WARNING:gensim.models.keyedvectors:duplicate word 'หลง' in word2vec file, ignoring all but first\n",
            "WARNING:gensim.models.keyedvectors:duplicate word 'แหง' in word2vec file, ignoring all but first\n",
            "WARNING:gensim.models.keyedvectors:duplicate word 'ยิก' in word2vec file, ignoring all but first\n",
            "WARNING:gensim.models.keyedvectors:duplicate word 'ลุ่ม' in word2vec file, ignoring all but first\n",
            "WARNING:gensim.models.keyedvectors:duplicate word 'ศิลป์' in word2vec file, ignoring all but first\n",
            "WARNING:gensim.models.keyedvectors:duplicate word 'ยิบ' in word2vec file, ignoring all but first\n",
            "WARNING:gensim.models.keyedvectors:duplicate word 'แป๊บ' in word2vec file, ignoring all but first\n",
            "WARNING:gensim.models.keyedvectors:duplicate word 'ตาดำ' in word2vec file, ignoring all but first\n",
            "WARNING:gensim.models.keyedvectors:duplicate word 'ฮุน' in word2vec file, ignoring all but first\n",
            "WARNING:gensim.models.keyedvectors:duplicate word 'ซึ่ง' in word2vec file, ignoring all but first\n",
            "WARNING:gensim.models.keyedvectors:duplicate word 'หึ' in word2vec file, ignoring all but first\n",
            "WARNING:gensim.models.keyedvectors:duplicate word 'แต่' in word2vec file, ignoring all but first\n",
            "WARNING:gensim.models.keyedvectors:duplicate word 'เหยาะ' in word2vec file, ignoring all but first\n",
            "WARNING:gensim.models.keyedvectors:duplicate word 'สุก' in word2vec file, ignoring all but first\n",
            "WARNING:gensim.models.keyedvectors:duplicate word 'เที่ยง' in word2vec file, ignoring all but first\n",
            "WARNING:gensim.models.keyedvectors:duplicate word 'ลม' in word2vec file, ignoring all but first\n",
            "WARNING:gensim.models.keyedvectors:duplicate word 'งู' in word2vec file, ignoring all but first\n",
            "WARNING:gensim.models.keyedvectors:duplicate word 'ราง' in word2vec file, ignoring all but first\n",
            "WARNING:gensim.models.keyedvectors:duplicate word 'เบาะ' in word2vec file, ignoring all but first\n",
            "WARNING:gensim.models.keyedvectors:duplicate word 'ย้ำ' in word2vec file, ignoring all but first\n",
            "WARNING:gensim.models.keyedvectors:duplicate word 'เงา' in word2vec file, ignoring all but first\n",
            "WARNING:gensim.models.keyedvectors:duplicate word 'เนิบ' in word2vec file, ignoring all but first\n",
            "WARNING:gensim.models.keyedvectors:duplicate word 'เปรย' in word2vec file, ignoring all but first\n",
            "WARNING:gensim.models.keyedvectors:duplicate word 'ลิบ' in word2vec file, ignoring all but first\n",
            "WARNING:gensim.models.keyedvectors:duplicate word 'โต้ง' in word2vec file, ignoring all but first\n",
            "WARNING:gensim.models.keyedvectors:duplicate word 'เก้' in word2vec file, ignoring all but first\n",
            "WARNING:gensim.models.keyedvectors:duplicate word 'พรำ' in word2vec file, ignoring all but first\n",
            "WARNING:gensim.models.keyedvectors:duplicate word 'อองซาน' in word2vec file, ignoring all but first\n",
            "WARNING:gensim.models.keyedvectors:duplicate word 'ก้ม' in word2vec file, ignoring all but first\n",
            "WARNING:gensim.models.keyedvectors:duplicate word 'แง' in word2vec file, ignoring all but first\n",
            "WARNING:gensim.models.keyedvectors:duplicate word 'เนือย' in word2vec file, ignoring all but first\n",
            "WARNING:gensim.models.keyedvectors:duplicate word 'หนาว' in word2vec file, ignoring all but first\n",
            "WARNING:gensim.models.keyedvectors:duplicate word 'ส่ง' in word2vec file, ignoring all but first\n",
            "WARNING:gensim.models.keyedvectors:duplicate word 'เร่า' in word2vec file, ignoring all but first\n",
            "WARNING:gensim.models.keyedvectors:duplicate word 'ไหว' in word2vec file, ignoring all but first\n",
            "WARNING:gensim.models.keyedvectors:duplicate word 'ทึม' in word2vec file, ignoring all but first\n",
            "WARNING:gensim.models.keyedvectors:duplicate word 'เรียง' in word2vec file, ignoring all but first\n",
            "WARNING:gensim.models.keyedvectors:duplicate word 'ผิว' in word2vec file, ignoring all but first\n",
            "WARNING:gensim.models.keyedvectors:duplicate word 'ตุบ' in word2vec file, ignoring all but first\n",
            "WARNING:gensim.models.keyedvectors:duplicate word 'ซิบ' in word2vec file, ignoring all but first\n",
            "WARNING:gensim.models.keyedvectors:duplicate word ''' in word2vec file, ignoring all but first\n",
            "WARNING:gensim.models.keyedvectors:duplicate word 'ตูม' in word2vec file, ignoring all but first\n",
            "WARNING:gensim.models.keyedvectors:duplicate word 'คิก' in word2vec file, ignoring all but first\n",
            "WARNING:gensim.models.keyedvectors:duplicate word 'ร้อน' in word2vec file, ignoring all but first\n",
            "WARNING:gensim.models.keyedvectors:duplicate word 'เพลา' in word2vec file, ignoring all but first\n",
            "WARNING:gensim.models.keyedvectors:duplicate word 'มัว' in word2vec file, ignoring all but first\n",
            "WARNING:gensim.models.keyedvectors:duplicate word 'วับ' in word2vec file, ignoring all but first\n",
            "WARNING:gensim.models.keyedvectors:duplicate word 'จด' in word2vec file, ignoring all but first\n",
            "WARNING:gensim.models.keyedvectors:duplicate word 'ปริบ' in word2vec file, ignoring all but first\n",
            "WARNING:gensim.models.keyedvectors:duplicate word 'วับ' in word2vec file, ignoring all but first\n",
            "WARNING:gensim.models.keyedvectors:duplicate word 'ตุ่น' in word2vec file, ignoring all but first\n",
            "WARNING:gensim.models.keyedvectors:duplicate word 'เลา' in word2vec file, ignoring all but first\n",
            "WARNING:gensim.models.keyedvectors:duplicate word 'ลับ' in word2vec file, ignoring all but first\n",
            "WARNING:gensim.models.keyedvectors:duplicate word 'พระเจ้าวรวงศ์เธอ' in word2vec file, ignoring all but first\n",
            "WARNING:gensim.models.keyedvectors:duplicate word 'เฉื่อย' in word2vec file, ignoring all but first\n",
            "WARNING:gensim.models.keyedvectors:duplicate word 'ผับ' in word2vec file, ignoring all but first\n",
            "WARNING:gensim.models.keyedvectors:duplicate word 'สุ่ม' in word2vec file, ignoring all but first\n",
            "WARNING:gensim.models.keyedvectors:duplicate word 'ฉับ' in word2vec file, ignoring all but first\n",
            "WARNING:gensim.models.keyedvectors:duplicate word 'ออด' in word2vec file, ignoring all but first\n",
            "WARNING:gensim.models.keyedvectors:duplicate word 'ไล่' in word2vec file, ignoring all but first\n",
            "WARNING:gensim.models.keyedvectors:duplicate word 'ทิ้ง' in word2vec file, ignoring all but first\n",
            "WARNING:gensim.models.keyedvectors:duplicate word 'ท้วม' in word2vec file, ignoring all but first\n",
            "WARNING:gensim.models.keyedvectors:duplicate word 'เลือก' in word2vec file, ignoring all but first\n",
            "WARNING:gensim.models.keyedvectors:duplicate word 'พระเจ้าวรวงศ์เธอ' in word2vec file, ignoring all but first\n",
            "WARNING:gensim.models.keyedvectors:duplicate word 'งก' in word2vec file, ignoring all but first\n",
            "WARNING:gensim.models.keyedvectors:duplicate word 'อ่อย' in word2vec file, ignoring all but first\n",
            "WARNING:gensim.models.keyedvectors:duplicate word 'แปลบ' in word2vec file, ignoring all but first\n",
            "WARNING:gensim.models.keyedvectors:duplicate word 'ป้อม' in word2vec file, ignoring all but first\n",
            "WARNING:gensim.models.keyedvectors:duplicate word 'รอน' in word2vec file, ignoring all but first\n",
            "WARNING:gensim.models.keyedvectors:duplicate word 'ปัด' in word2vec file, ignoring all but first\n",
            "WARNING:gensim.models.keyedvectors:duplicate word 'ผลุบ' in word2vec file, ignoring all but first\n",
            "WARNING:gensim.models.keyedvectors:duplicate word 'เผิน' in word2vec file, ignoring all but first\n",
            "WARNING:gensim.models.keyedvectors:duplicate word 'เหมียว' in word2vec file, ignoring all but first\n",
            "WARNING:gensim.models.keyedvectors:duplicate word 'ป้ำ' in word2vec file, ignoring all but first\n",
            "WARNING:gensim.models.keyedvectors:duplicate word 'ต้อย' in word2vec file, ignoring all but first\n",
            "WARNING:gensim.models.keyedvectors:duplicate word 'เฮือก' in word2vec file, ignoring all but first\n",
            "WARNING:gensim.models.keyedvectors:duplicate word 'หยัก' in word2vec file, ignoring all but first\n",
            "WARNING:gensim.models.keyedvectors:duplicate word 'พราด' in word2vec file, ignoring all but first\n",
            "WARNING:gensim.models.keyedvectors:duplicate word 'ดาด' in word2vec file, ignoring all but first\n",
            "WARNING:gensim.models.keyedvectors:duplicate word 'เหนาะ' in word2vec file, ignoring all but first\n",
            "WARNING:gensim.models.keyedvectors:duplicate word 'ข้าง' in word2vec file, ignoring all but first\n",
            "WARNING:gensim.models.keyedvectors:duplicate word 'ตึก' in word2vec file, ignoring all but first\n",
            "WARNING:gensim.models.keyedvectors:duplicate word 'รุม' in word2vec file, ignoring all but first\n",
            "WARNING:gensim.models.keyedvectors:duplicate word 'จ้อย' in word2vec file, ignoring all but first\n",
            "WARNING:gensim.models.keyedvectors:duplicate word 'ริก' in word2vec file, ignoring all but first\n",
            "WARNING:gensim.models.keyedvectors:duplicate word 'ปาว' in word2vec file, ignoring all but first\n",
            "WARNING:gensim.models.keyedvectors:duplicate word 'ติ๋ง' in word2vec file, ignoring all but first\n",
            "WARNING:gensim.models.keyedvectors:duplicate word 'เลือน' in word2vec file, ignoring all but first\n",
            "WARNING:gensim.models.keyedvectors:duplicate word 'มหาตมะ' in word2vec file, ignoring all but first\n",
            "WARNING:gensim.models.keyedvectors:duplicate word 'บิน' in word2vec file, ignoring all but first\n",
            "WARNING:gensim.models.keyedvectors:duplicate word 'ข้าม' in word2vec file, ignoring all but first\n",
            "WARNING:gensim.models.keyedvectors:duplicate word 'หวัด' in word2vec file, ignoring all but first\n",
            "WARNING:gensim.models.keyedvectors:duplicate word 'ยวบ' in word2vec file, ignoring all but first\n",
            "WARNING:gensim.models.keyedvectors:duplicate word 'โทง' in word2vec file, ignoring all but first\n",
            "WARNING:gensim.models.keyedvectors:duplicate word 'ชุ่ย' in word2vec file, ignoring all but first\n",
            "WARNING:gensim.models.keyedvectors:duplicate word 'ตะลอน' in word2vec file, ignoring all but first\n",
            "WARNING:gensim.models.keyedvectors:duplicate word 'ป่อง' in word2vec file, ignoring all but first\n",
            "WARNING:gensim.models.keyedvectors:duplicate word 'งึก' in word2vec file, ignoring all but first\n",
            "WARNING:gensim.models.keyedvectors:duplicate word 'โครงการส่วนพระองค์' in word2vec file, ignoring all but first\n",
            "WARNING:gensim.models.keyedvectors:duplicate word 'วอลต์' in word2vec file, ignoring all but first\n",
            "WARNING:gensim.models.keyedvectors:duplicate word 'อด' in word2vec file, ignoring all but first\n",
            "WARNING:gensim.models.keyedvectors:duplicate word 'เรือง' in word2vec file, ignoring all but first\n",
            "WARNING:gensim.models.keyedvectors:duplicate word 'สวบ' in word2vec file, ignoring all but first\n",
            "WARNING:gensim.models.keyedvectors:duplicate word 'หึ่ง' in word2vec file, ignoring all but first\n",
            "WARNING:gensim.models.keyedvectors:duplicate word 'ยอง' in word2vec file, ignoring all but first\n",
            "WARNING:gensim.models.keyedvectors:duplicate word 'พราก' in word2vec file, ignoring all but first\n",
            "WARNING:gensim.models.keyedvectors:duplicate word 'เลียบ' in word2vec file, ignoring all but first\n",
            "WARNING:gensim.models.keyedvectors:duplicate word 'รี' in word2vec file, ignoring all but first\n",
            "WARNING:gensim.models.keyedvectors:duplicate word 'ดุ่ย' in word2vec file, ignoring all but first\n",
            "WARNING:gensim.models.keyedvectors:duplicate word 'แฉก' in word2vec file, ignoring all but first\n",
            "WARNING:gensim.models.keyedvectors:duplicate word 'ยับ' in word2vec file, ignoring all but first\n",
            "WARNING:gensim.models.keyedvectors:duplicate word 'หลัด' in word2vec file, ignoring all but first\n",
            "WARNING:gensim.models.keyedvectors:duplicate word 'ตลาด' in word2vec file, ignoring all but first\n",
            "WARNING:gensim.models.keyedvectors:duplicate word 'บ๊อง' in word2vec file, ignoring all but first\n",
            "WARNING:gensim.models.keyedvectors:duplicate word 'ตาแดง' in word2vec file, ignoring all but first\n",
            "WARNING:gensim.models.keyedvectors:duplicate word 'แฮก' in word2vec file, ignoring all but first\n",
            "WARNING:gensim.models.keyedvectors:duplicate word 'ฉอด' in word2vec file, ignoring all but first\n",
            "WARNING:gensim.models.keyedvectors:duplicate word 'หงิม' in word2vec file, ignoring all but first\n",
            "WARNING:gensim.models.keyedvectors:duplicate word 'กระซิก' in word2vec file, ignoring all but first\n",
            "WARNING:gensim.models.keyedvectors:duplicate word 'งก' in word2vec file, ignoring all but first\n",
            "WARNING:gensim.models.keyedvectors:duplicate word 'ปอน' in word2vec file, ignoring all but first\n",
            "WARNING:gensim.models.keyedvectors:duplicate word 'เง้า' in word2vec file, ignoring all but first\n",
            "WARNING:gensim.models.keyedvectors:duplicate word 'ลิ่ว' in word2vec file, ignoring all but first\n",
            "WARNING:gensim.models.keyedvectors:duplicate word 'ตะคุ่ม' in word2vec file, ignoring all but first\n",
            "WARNING:gensim.models.keyedvectors:duplicate word 'แหยะ' in word2vec file, ignoring all but first\n",
            "WARNING:gensim.models.keyedvectors:duplicate word 'ชิน' in word2vec file, ignoring all but first\n",
            "WARNING:gensim.models.keyedvectors:duplicate word 'ดิก' in word2vec file, ignoring all but first\n",
            "WARNING:gensim.models.keyedvectors:duplicate word 'ซู่' in word2vec file, ignoring all but first\n",
            "WARNING:gensim.models.keyedvectors:duplicate word 'ท่อม' in word2vec file, ignoring all but first\n",
            "WARNING:gensim.models.keyedvectors:duplicate word 'โฮ' in word2vec file, ignoring all but first\n",
            "WARNING:gensim.models.keyedvectors:duplicate word 'ฮัก' in word2vec file, ignoring all but first\n",
            "WARNING:gensim.models.keyedvectors:duplicate word 'ตุ่ย' in word2vec file, ignoring all but first\n",
            "WARNING:gensim.models.keyedvectors:duplicate word 'แวม' in word2vec file, ignoring all but first\n",
            "WARNING:gensim.models.keyedvectors:duplicate word 'แผล็บ' in word2vec file, ignoring all but first\n",
            "WARNING:gensim.models.keyedvectors:duplicate word 'หลุน' in word2vec file, ignoring all but first\n",
            "WARNING:gensim.models.keyedvectors:duplicate word 'ต๊อก' in word2vec file, ignoring all but first\n",
            "WARNING:gensim.models.keyedvectors:duplicate word 'สะบัด' in word2vec file, ignoring all but first\n",
            "WARNING:gensim.models.keyedvectors:duplicate word 'ดุ่ม' in word2vec file, ignoring all but first\n",
            "WARNING:gensim.models.keyedvectors:duplicate word 'งุด' in word2vec file, ignoring all but first\n",
            "WARNING:gensim.models.keyedvectors:duplicate word 'พำ' in word2vec file, ignoring all but first\n",
            "WARNING:gensim.models.keyedvectors:duplicate word 'แว็บ' in word2vec file, ignoring all but first\n",
            "WARNING:gensim.models.keyedvectors:duplicate word 'หยิม' in word2vec file, ignoring all but first\n",
            "WARNING:gensim.models.keyedvectors:duplicate word 'ผ่าง' in word2vec file, ignoring all but first\n",
            "WARNING:gensim.models.keyedvectors:duplicate word 'งัก' in word2vec file, ignoring all but first\n",
            "WARNING:gensim.models.keyedvectors:duplicate word 'ริน' in word2vec file, ignoring all but first\n",
            "WARNING:gensim.models.keyedvectors:duplicate word 'แล้ว' in word2vec file, ignoring all but first\n",
            "WARNING:gensim.models.keyedvectors:duplicate word 'กระแด่ว' in word2vec file, ignoring all but first\n",
            "WARNING:gensim.models.keyedvectors:duplicate word 'สมเด็จพระมหิตลาธิเบศร' in word2vec file, ignoring all but first\n",
            "WARNING:gensim.models.keyedvectors:duplicate word 'แหมะ' in word2vec file, ignoring all but first\n",
            "WARNING:gensim.models.keyedvectors:duplicate word 'ซิก' in word2vec file, ignoring all but first\n",
            "WARNING:gensim.models.keyedvectors:duplicate word 'หงิง' in word2vec file, ignoring all but first\n",
            "WARNING:gensim.models.keyedvectors:duplicate word 'หนุบ' in word2vec file, ignoring all but first\n",
            "WARNING:gensim.models.keyedvectors:duplicate word 'โม้' in word2vec file, ignoring all but first\n",
            "WARNING:gensim.models.keyedvectors:duplicate word 'โฮ่ง' in word2vec file, ignoring all but first\n",
            "WARNING:gensim.models.keyedvectors:duplicate word 'เปล่า' in word2vec file, ignoring all but first\n",
            "WARNING:gensim.models.keyedvectors:duplicate word 'แจ้ว' in word2vec file, ignoring all but first\n",
            "WARNING:gensim.models.keyedvectors:duplicate word 'ทะแม่ง' in word2vec file, ignoring all but first\n",
            "WARNING:gensim.models.keyedvectors:duplicate word 'กุก' in word2vec file, ignoring all but first\n",
            "WARNING:gensim.models.keyedvectors:duplicate word 'แง่ง' in word2vec file, ignoring all but first\n",
            "WARNING:gensim.models.keyedvectors:duplicate word 'หงึก' in word2vec file, ignoring all but first\n",
            "WARNING:gensim.models.keyedvectors:duplicate word 'แปร๋น' in word2vec file, ignoring all but first\n",
            "WARNING:gensim.models.keyedvectors:duplicate word 'อึก' in word2vec file, ignoring all but first\n",
            "WARNING:gensim.models.keyedvectors:duplicate word 'เขียว' in word2vec file, ignoring all but first\n",
            "WARNING:gensim.models.keyedvectors:duplicate word 'สะดุด' in word2vec file, ignoring all but first\n",
            "WARNING:gensim.models.keyedvectors:duplicate word 'กระเส่า' in word2vec file, ignoring all but first\n",
            "WARNING:gensim.models.keyedvectors:duplicate word 'ปะแล่ม' in word2vec file, ignoring all but first\n",
            "WARNING:gensim.models.keyedvectors:duplicate word 'คลุม' in word2vec file, ignoring all but first\n",
            "WARNING:gensim.models.keyedvectors:duplicate word 'หรับ' in word2vec file, ignoring all but first\n",
            "WARNING:gensim.models.keyedvectors:duplicate word 'เปลาะ' in word2vec file, ignoring all but first\n",
            "WARNING:gensim.models.keyedvectors:duplicate word 'เหยง' in word2vec file, ignoring all but first\n",
            "WARNING:gensim.models.keyedvectors:duplicate word 'ผาด' in word2vec file, ignoring all but first\n",
            "WARNING:gensim.models.keyedvectors:duplicate word 'โย่ง' in word2vec file, ignoring all but first\n",
            "WARNING:gensim.models.keyedvectors:duplicate word 'หรอย' in word2vec file, ignoring all but first\n",
            "WARNING:gensim.models.keyedvectors:duplicate word 'ดุบ' in word2vec file, ignoring all but first\n",
            "WARNING:gensim.models.keyedvectors:duplicate word 'ลุ่น' in word2vec file, ignoring all but first\n",
            "WARNING:gensim.models.keyedvectors:duplicate word 'งาบ' in word2vec file, ignoring all but first\n",
            "WARNING:gensim.models.keyedvectors:duplicate word 'โขลก' in word2vec file, ignoring all but first\n",
            "WARNING:gensim.models.keyedvectors:duplicate word 'เยี่ยม' in word2vec file, ignoring all but first\n",
            "WARNING:gensim.models.keyedvectors:duplicate word 'ขลุก' in word2vec file, ignoring all but first\n",
            "WARNING:gensim.models.keyedvectors:duplicate word 'ดี๋' in word2vec file, ignoring all but first\n",
            "WARNING:gensim.models.keyedvectors:duplicate word 'ป้าน' in word2vec file, ignoring all but first\n",
            "WARNING:gensim.models.keyedvectors:duplicate word 'พะงาบ' in word2vec file, ignoring all but first\n",
            "WARNING:gensim.models.keyedvectors:duplicate word 'จุ' in word2vec file, ignoring all but first\n",
            "WARNING:gensim.models.keyedvectors:duplicate word 'ง่ำ' in word2vec file, ignoring all but first\n",
            "WARNING:gensim.models.keyedvectors:duplicate word 'เฉิบ' in word2vec file, ignoring all but first\n",
            "WARNING:gensim.models.keyedvectors:duplicate word 'กุ๊ก' in word2vec file, ignoring all but first\n",
            "WARNING:gensim.models.keyedvectors:duplicate word 'เอาเถอะ' in word2vec file, ignoring all but first\n",
            "WARNING:gensim.models.keyedvectors:duplicate word 'ดำ' in word2vec file, ignoring all but first\n",
            "WARNING:gensim.models.keyedvectors:duplicate word 'ตงิด' in word2vec file, ignoring all but first\n",
            "WARNING:gensim.models.keyedvectors:duplicate word 'พึม' in word2vec file, ignoring all but first\n",
            "WARNING:gensim.models.keyedvectors:duplicate word 'หยุบ' in word2vec file, ignoring all but first\n",
            "WARNING:gensim.models.keyedvectors:duplicate word 'หยับ' in word2vec file, ignoring all but first\n",
            "WARNING:gensim.models.keyedvectors:duplicate word 'แมเนเจอร์' in word2vec file, ignoring all but first\n",
            "WARNING:gensim.models.keyedvectors:duplicate word 'สุ' in word2vec file, ignoring all but first\n",
            "WARNING:gensim.models.keyedvectors:duplicate word 'เรี่ย' in word2vec file, ignoring all but first\n",
            "WARNING:gensim.models.keyedvectors:duplicate word 'หวย' in word2vec file, ignoring all but first\n",
            "WARNING:gensim.models.keyedvectors:duplicate word 'เย' in word2vec file, ignoring all but first\n",
            "WARNING:gensim.models.keyedvectors:duplicate word 'อิด' in word2vec file, ignoring all but first\n",
            "WARNING:gensim.models.keyedvectors:duplicate word 'เบี้ยว' in word2vec file, ignoring all but first\n",
            "WARNING:gensim.models.keyedvectors:duplicate word 'เฉาะ' in word2vec file, ignoring all but first\n",
            "WARNING:gensim.models.keyedvectors:duplicate word 'ลูกขุน' in word2vec file, ignoring all but first\n",
            "WARNING:gensim.models.keyedvectors:duplicate word 'แอด' in word2vec file, ignoring all but first\n",
            "WARNING:gensim.models.keyedvectors:duplicate word 'โหย่ง' in word2vec file, ignoring all but first\n",
            "WARNING:gensim.models.keyedvectors:duplicate word 'กระดุบ' in word2vec file, ignoring all but first\n",
            "WARNING:gensim.models.keyedvectors:duplicate word 'หมับ' in word2vec file, ignoring all but first\n",
            "WARNING:gensim.models.keyedvectors:duplicate word 'ถั่น' in word2vec file, ignoring all but first\n",
            "WARNING:gensim.models.keyedvectors:duplicate word 'อ้อม' in word2vec file, ignoring all but first\n",
            "WARNING:gensim.models.keyedvectors:duplicate word 'ครือ' in word2vec file, ignoring all but first\n",
            "WARNING:gensim.models.keyedvectors:duplicate word 'ตึ' in word2vec file, ignoring all but first\n",
            "WARNING:gensim.models.keyedvectors:duplicate word 'ออด' in word2vec file, ignoring all but first\n",
            "WARNING:gensim.models.keyedvectors:duplicate word '' in word2vec file, ignoring all but first\n",
            "WARNING:gensim.models.keyedvectors:duplicate word 'หงิก' in word2vec file, ignoring all but first\n",
            "WARNING:gensim.models.keyedvectors:duplicate word 'คั่ก' in word2vec file, ignoring all but first\n",
            "WARNING:gensim.models.keyedvectors:duplicate word 'แด่ว' in word2vec file, ignoring all but first\n",
            "WARNING:gensim.models.keyedvectors:duplicate word 'งุบ' in word2vec file, ignoring all but first\n",
            "WARNING:gensim.models.keyedvectors:duplicate word 'ลูกขุน' in word2vec file, ignoring all but first\n",
            "WARNING:gensim.models.keyedvectors:duplicate word 'เยิบ' in word2vec file, ignoring all but first\n",
            "WARNING:gensim.models.keyedvectors:duplicate word 'ยาบ' in word2vec file, ignoring all but first\n",
            "WARNING:gensim.models.keyedvectors:duplicate word 'โชก' in word2vec file, ignoring all but first\n",
            "WARNING:gensim.models.keyedvectors:duplicate word 'ล่ก' in word2vec file, ignoring all but first\n",
            "WARNING:gensim.models.keyedvectors:duplicate word 'ไจ้' in word2vec file, ignoring all but first\n",
            "WARNING:gensim.models.keyedvectors:duplicate word 'ช้า' in word2vec file, ignoring all but first\n",
            "WARNING:gensim.models.keyedvectors:duplicate word 'อุบอิบ' in word2vec file, ignoring all but first\n",
            "WARNING:gensim.models.keyedvectors:duplicate word 'ผล็อย' in word2vec file, ignoring all but first\n",
            "WARNING:gensim.models.keyedvectors:duplicate word 'หนุบหนับ' in word2vec file, ignoring all but first\n",
            "WARNING:gensim.models.keyedvectors:duplicate word 'หงัก' in word2vec file, ignoring all but first\n",
            "WARNING:gensim.models.keyedvectors:duplicate word 'แพล็บ' in word2vec file, ignoring all but first\n",
            "WARNING:gensim.models.keyedvectors:duplicate word 'เผาะ' in word2vec file, ignoring all but first\n",
            "WARNING:gensim.models.keyedvectors:duplicate word 'คว้าง' in word2vec file, ignoring all but first\n",
            "WARNING:gensim.models.keyedvectors:duplicate word 'ก้าบ' in word2vec file, ignoring all but first\n",
            "WARNING:gensim.models.keyedvectors:duplicate word 'หริ่ง' in word2vec file, ignoring all but first\n",
            "WARNING:gensim.models.keyedvectors:duplicate word 'มุบ' in word2vec file, ignoring all but first\n",
            "WARNING:gensim.models.keyedvectors:duplicate word 'หงับ' in word2vec file, ignoring all but first\n",
            "WARNING:gensim.models.keyedvectors:duplicate word 'อั้ก' in word2vec file, ignoring all but first\n",
            "WARNING:gensim.models.keyedvectors:duplicate word 'เด่า' in word2vec file, ignoring all but first\n",
            "WARNING:gensim.models.keyedvectors:duplicate word 'วาม' in word2vec file, ignoring all but first\n"
          ]
        }
      ]
    },
    {
      "cell_type": "code",
      "source": [
        "print(model15.most_similar(\"แมว\"))"
      ],
      "metadata": {
        "id": "B0tLScZEVEmn"
      },
      "execution_count": null,
      "outputs": []
    }
  ]
}